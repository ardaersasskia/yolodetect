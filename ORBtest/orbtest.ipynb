{
 "cells": [
  {
   "cell_type": "code",
   "execution_count": 1,
   "metadata": {},
   "outputs": [],
   "source": [
    "import cv2\n",
    "from matplotlib import pyplot as plt\n"
   ]
  },
  {
   "cell_type": "code",
   "execution_count": 14,
   "metadata": {},
   "outputs": [],
   "source": [
    "def photoprocess(img):\n",
    "    blured = cv2.GaussianBlur(img, (3, 3), 0)\n",
    "    return blured"
   ]
  },
  {
   "cell_type": "code",
   "execution_count": 26,
   "metadata": {},
   "outputs": [],
   "source": [
    "img=cv2.imread('./usb_x75y27.5.jpg',cv2.IMREAD_GRAYSCALE)\n",
    "img=cv2.resize(img,(1920,1080))\n",
    "orb=cv2.ORB_create()\n",
    "keypoints,descriptor=orb.detectAndCompute(img,None)\n",
    "for keypoint in keypoints:\n",
    "    img=cv2.drawKeypoints(img,[keypoint],None,color=(0,255,0),flags=0)\n",
    "    cv2.imshow('image',img)\n",
    "if cv2.waitKey(0) == 27:\n",
    "\n",
    "    cv2.destroyAllWindows()"
   ]
  },
  {
   "cell_type": "code",
   "execution_count": null,
   "metadata": {},
   "outputs": [],
   "source": [
    "\n",
    "for keypoint in keypoints:\n",
    "    img=cv2.drawKeypoints(img,[keypoint],None,color=(0,255,0),flags=0)\n",
    "    cv2.imshow('image',img)\n",
    "    if cv2.waitKey(0) == 27:\n",
    "        break\n",
    "cv2.destroyAllWindows()"
   ]
  }
 ],
 "metadata": {
  "kernelspec": {
   "display_name": "AI",
   "language": "python",
   "name": "python3"
  },
  "language_info": {
   "codemirror_mode": {
    "name": "ipython",
    "version": 3
   },
   "file_extension": ".py",
   "mimetype": "text/x-python",
   "name": "python",
   "nbconvert_exporter": "python",
   "pygments_lexer": "ipython3",
   "version": "3.11.5"
  }
 },
 "nbformat": 4,
 "nbformat_minor": 2
}
